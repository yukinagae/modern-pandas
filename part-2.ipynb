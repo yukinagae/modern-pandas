{
 "cells": [
  {
   "cell_type": "markdown",
   "metadata": {},
   "source": [
    "# Modern Pandas (Part 2)\n",
    "\n",
    "* see: https://github.com/TomAugspurger/effective-pandas\n",
    "* see: https://tomaugspurger.github.io/method-chaining.html"
   ]
  },
  {
   "cell_type": "code",
   "execution_count": 114,
   "metadata": {},
   "outputs": [],
   "source": [
    "%matplotlib inline\n",
    "\n",
    "import os\n",
    "import numpy as np\n",
    "import pandas as pd\n",
    "import seaborn as sns\n",
    "import matplotlib.pyplot as plt\n",
    "sns.set(style='ticks', context='talk')\n",
    "\n",
    "# import prep\n",
    "\n",
    "from functools import wraps\n",
    "import logging\n",
    "\n",
    "import statsmodels.api as sm"
   ]
  },
  {
   "cell_type": "markdown",
   "metadata": {},
   "source": [
    "# Method Chaining"
   ]
  },
  {
   "cell_type": "code",
   "execution_count": 115,
   "metadata": {},
   "outputs": [],
   "source": [
    "def read(fp):\n",
    "    \n",
    "    df = (pd.read_csv(fp)\n",
    "                .rename(columns=str.lower)\n",
    "                .drop('unnamed: 32', axis=1)\n",
    "                .pipe(extract_city_name)\n",
    "                .pipe(time_to_datetime, ['dep_time', 'arr_time', 'crs_arr_time', 'crs_dep_time'])\n",
    "                .assign(fl_date=lambda x: pd.to_datetime(x['fl_date']),\n",
    "                             dest=lambda x: pd.Categorical(x['dest']),\n",
    "                             origin=lambda x: pd.Categorical(x['origin']),\n",
    "                             tail_num=lambda x: pd.Categorical(x['tail_num']),\n",
    "                             unique_carrier=lambda x: pd.Categorical(x['unique_carrier']),\n",
    "                             cancellation_code=lambda x: pd.Categorical(x['cancellation_code']))\n",
    "    )\n",
    "    \n",
    "    return df\n",
    "\n",
    "def extract_city_name(df):\n",
    "    '''\n",
    "    Chicago, IL -> Chicago for origin_city_name and dest_city_name\n",
    "    '''\n",
    "    \n",
    "    cols = ['origin_city_name', 'dest_city_name']\n",
    "    city = df[cols].apply(lambda x: x.str.extract(\"(.*), \\w{2}\", expand=False))\n",
    "    _df = df.copy()\n",
    "    _df[['origin_city_name', 'dest_city_name']] = city\n",
    "\n",
    "    return _df\n",
    "\n",
    "def time_to_datetime(df, columns):\n",
    "    '''\n",
    "    Combine all time items into datetimes.\n",
    "\n",
    "    2014-01-01,0914 -> 2014-01-01 09:14:00\n",
    "    '''\n",
    "    \n",
    "    _df = df.copy()\n",
    "    \n",
    "    def converter(col):\n",
    "        timepart = col.astype(str).str.replace('\\.0$', '').str.pad(4, fillchar='0') \n",
    "        return pd.to_datetime(df['fl_date'] + ' ' +\n",
    "                               timepart.str.slice(0, 2) + ':' +\n",
    "                               timepart.str.slice(2, 4),\n",
    "                               errors='coerce')\n",
    "        \n",
    "    _df[columns] = _df[columns].apply(converter)\n",
    "    \n",
    "    return _df"
   ]
  },
  {
   "cell_type": "code",
   "execution_count": 119,
   "metadata": {},
   "outputs": [
    {
     "name": "stdout",
     "output_type": "stream",
     "text": [
      "CPU times: user 17.9 s, sys: 1.63 s, total: 19.5 s\n",
      "Wall time: 20.7 s\n"
     ]
    }
   ],
   "source": [
    "%%time\n",
    "output = 'data/flights.h5'\n",
    "\n",
    "if not os.path.exists(output):\n",
    "    df = read(\"data/756883233_T_ONTIME.csv\")\n",
    "    df.to_hdf(output, 'flights', format='table')\n",
    "else:\n",
    "    df = pd.read_hdf(output, 'flights', format='table')"
   ]
  },
  {
   "cell_type": "code",
   "execution_count": 120,
   "metadata": {},
   "outputs": [
    {
     "data": {
      "text/html": [
       "<div>\n",
       "<style scoped>\n",
       "    .dataframe tbody tr th:only-of-type {\n",
       "        vertical-align: middle;\n",
       "    }\n",
       "\n",
       "    .dataframe tbody tr th {\n",
       "        vertical-align: top;\n",
       "    }\n",
       "\n",
       "    .dataframe thead th {\n",
       "        text-align: right;\n",
       "    }\n",
       "</style>\n",
       "<table border=\"1\" class=\"dataframe\">\n",
       "  <thead>\n",
       "    <tr style=\"text-align: right;\">\n",
       "      <th></th>\n",
       "      <th>dep_time</th>\n",
       "      <th>arr_time</th>\n",
       "      <th>crs_arr_time</th>\n",
       "      <th>crs_dep_time</th>\n",
       "    </tr>\n",
       "  </thead>\n",
       "  <tbody>\n",
       "    <tr>\n",
       "      <th>0</th>\n",
       "      <td>2017-01-01 08:31:00</td>\n",
       "      <td>2017-01-01 12:09:00</td>\n",
       "      <td>2017-01-01 11:42:00</td>\n",
       "      <td>2017-01-01 08:00:00</td>\n",
       "    </tr>\n",
       "    <tr>\n",
       "      <th>1</th>\n",
       "      <td>2017-01-01 09:34:00</td>\n",
       "      <td>2017-01-01 18:09:00</td>\n",
       "      <td>2017-01-01 17:27:00</td>\n",
       "      <td>2017-01-01 09:00:00</td>\n",
       "    </tr>\n",
       "    <tr>\n",
       "      <th>2</th>\n",
       "      <td>2017-01-01 12:21:00</td>\n",
       "      <td>2017-01-01 20:40:00</td>\n",
       "      <td>2017-01-01 19:58:00</td>\n",
       "      <td>2017-01-01 11:30:00</td>\n",
       "    </tr>\n",
       "    <tr>\n",
       "      <th>3</th>\n",
       "      <td>2017-01-01 12:52:00</td>\n",
       "      <td>2017-01-01 17:49:00</td>\n",
       "      <td>2017-01-01 16:12:00</td>\n",
       "      <td>2017-01-01 11:35:00</td>\n",
       "    </tr>\n",
       "    <tr>\n",
       "      <th>4</th>\n",
       "      <td>2017-01-01 18:55:00</td>\n",
       "      <td>2017-01-01 06:42:00</td>\n",
       "      <td>2017-01-01 06:00:00</td>\n",
       "      <td>2017-01-01 18:55:00</td>\n",
       "    </tr>\n",
       "  </tbody>\n",
       "</table>\n",
       "</div>"
      ],
      "text/plain": [
       "             dep_time            arr_time        crs_arr_time  \\\n",
       "0 2017-01-01 08:31:00 2017-01-01 12:09:00 2017-01-01 11:42:00   \n",
       "1 2017-01-01 09:34:00 2017-01-01 18:09:00 2017-01-01 17:27:00   \n",
       "2 2017-01-01 12:21:00 2017-01-01 20:40:00 2017-01-01 19:58:00   \n",
       "3 2017-01-01 12:52:00 2017-01-01 17:49:00 2017-01-01 16:12:00   \n",
       "4 2017-01-01 18:55:00 2017-01-01 06:42:00 2017-01-01 06:00:00   \n",
       "\n",
       "         crs_dep_time  \n",
       "0 2017-01-01 08:00:00  \n",
       "1 2017-01-01 09:00:00  \n",
       "2 2017-01-01 11:30:00  \n",
       "3 2017-01-01 11:35:00  \n",
       "4 2017-01-01 18:55:00  "
      ]
     },
     "execution_count": 120,
     "metadata": {},
     "output_type": "execute_result"
    }
   ],
   "source": [
    "df[['dep_time', 'arr_time', 'crs_arr_time', 'crs_dep_time']].head()"
   ]
  },
  {
   "cell_type": "code",
   "execution_count": 121,
   "metadata": {},
   "outputs": [
    {
     "name": "stdout",
     "output_type": "stream",
     "text": [
      "<class 'pandas.core.frame.DataFrame'>\n",
      "RangeIndex: 450017 entries, 0 to 450016\n",
      "Data columns (total 32 columns):\n",
      "fl_date                  450017 non-null datetime64[ns]\n",
      "unique_carrier           450017 non-null category\n",
      "airline_id               450017 non-null int64\n",
      "tail_num                 449378 non-null category\n",
      "fl_num                   450017 non-null int64\n",
      "origin_airport_id        450017 non-null int64\n",
      "origin_airport_seq_id    450017 non-null int64\n",
      "origin_city_market_id    450017 non-null int64\n",
      "origin                   450017 non-null category\n",
      "origin_city_name         450017 non-null object\n",
      "dest_airport_id          450017 non-null int64\n",
      "dest_airport_seq_id      450017 non-null int64\n",
      "dest_city_market_id      450017 non-null int64\n",
      "dest                     450017 non-null category\n",
      "dest_city_name           450017 non-null object\n",
      "crs_dep_time             450017 non-null datetime64[ns]\n",
      "dep_time                 441445 non-null datetime64[ns]\n",
      "dep_delay                441476 non-null float64\n",
      "taxi_out                 441244 non-null float64\n",
      "wheels_off               441244 non-null float64\n",
      "wheels_on                440746 non-null float64\n",
      "taxi_in                  440746 non-null float64\n",
      "crs_arr_time             450017 non-null datetime64[ns]\n",
      "arr_time                 440555 non-null datetime64[ns]\n",
      "arr_delay                439645 non-null float64\n",
      "cancelled                450017 non-null float64\n",
      "cancellation_code        8886 non-null category\n",
      "carrier_delay            97699 non-null float64\n",
      "weather_delay            97699 non-null float64\n",
      "nas_delay                97699 non-null float64\n",
      "security_delay           97699 non-null float64\n",
      "late_aircraft_delay      97699 non-null float64\n",
      "dtypes: category(5), datetime64[ns](5), float64(12), int64(8), object(2)\n",
      "memory usage: 96.3+ MB\n"
     ]
    }
   ],
   "source": [
    "df.info()"
   ]
  },
  {
   "cell_type": "markdown",
   "metadata": {},
   "source": [
    "# Costs"
   ]
  },
  {
   "cell_type": "code",
   "execution_count": 138,
   "metadata": {},
   "outputs": [],
   "source": [
    "def log_shape(func):\n",
    "    @wraps(func)\n",
    "    def wrapper(*args, **kwargs):\n",
    "        result = func(*args, **kwargs)\n",
    "        print(\"{}, {}\".format(func.__name__, result.shape))\n",
    "        return result\n",
    "    return wrapper\n",
    "\n",
    "def log_dtypes(func):\n",
    "    @wraps(func)\n",
    "    def wrapper(*args, **kwargs):\n",
    "        result = func(*args, **kwargs)\n",
    "        print(\"{}, {}\".format(func.__name__, result.dtypes))\n",
    "        return result\n",
    "    return wrapper\n",
    "\n",
    "@log_shape\n",
    "@log_dtypes\n",
    "def load(fp):\n",
    "    df = pd.read_csv(fp, index_col=0, parse_dates=True)\n",
    "    return df\n",
    "\n",
    "@log_shape\n",
    "@log_dtypes\n",
    "def update_events(df, new_events):\n",
    "    df.loc[new_events.index, 'foo'] = new_events\n",
    "    return df"
   ]
  },
  {
   "cell_type": "code",
   "execution_count": 139,
   "metadata": {},
   "outputs": [
    {
     "name": "stdout",
     "output_type": "stream",
     "text": [
      "load, UNIQUE_CARRIER            object\n",
      "AIRLINE_ID                 int64\n",
      "TAIL_NUM                  object\n",
      "FL_NUM                     int64\n",
      "ORIGIN_AIRPORT_ID          int64\n",
      "ORIGIN_AIRPORT_SEQ_ID      int64\n",
      "ORIGIN_CITY_MARKET_ID      int64\n",
      "ORIGIN                    object\n",
      "ORIGIN_CITY_NAME          object\n",
      "DEST_AIRPORT_ID            int64\n",
      "DEST_AIRPORT_SEQ_ID        int64\n",
      "DEST_CITY_MARKET_ID        int64\n",
      "DEST                      object\n",
      "DEST_CITY_NAME            object\n",
      "CRS_DEP_TIME               int64\n",
      "DEP_TIME                 float64\n",
      "DEP_DELAY                float64\n",
      "TAXI_OUT                 float64\n",
      "WHEELS_OFF               float64\n",
      "WHEELS_ON                float64\n",
      "TAXI_IN                  float64\n",
      "CRS_ARR_TIME               int64\n",
      "ARR_TIME                 float64\n",
      "ARR_DELAY                float64\n",
      "CANCELLED                float64\n",
      "CANCELLATION_CODE         object\n",
      "CARRIER_DELAY            float64\n",
      "WEATHER_DELAY            float64\n",
      "NAS_DELAY                float64\n",
      "SECURITY_DELAY           float64\n",
      "LATE_AIRCRAFT_DELAY      float64\n",
      "Unnamed: 32              float64\n",
      "dtype: object\n",
      "load, (450017, 32)\n"
     ]
    }
   ],
   "source": [
    "_df = load(\"data/756883233_T_ONTIME.csv\")"
   ]
  },
  {
   "cell_type": "code",
   "execution_count": 125,
   "metadata": {},
   "outputs": [
    {
     "data": {
      "text/html": [
       "<div>\n",
       "<style scoped>\n",
       "    .dataframe tbody tr th:only-of-type {\n",
       "        vertical-align: middle;\n",
       "    }\n",
       "\n",
       "    .dataframe tbody tr th {\n",
       "        vertical-align: top;\n",
       "    }\n",
       "\n",
       "    .dataframe thead th {\n",
       "        text-align: right;\n",
       "    }\n",
       "</style>\n",
       "<table border=\"1\" class=\"dataframe\">\n",
       "  <thead>\n",
       "    <tr style=\"text-align: right;\">\n",
       "      <th></th>\n",
       "      <th>UNIQUE_CARRIER</th>\n",
       "      <th>AIRLINE_ID</th>\n",
       "      <th>TAIL_NUM</th>\n",
       "      <th>FL_NUM</th>\n",
       "      <th>ORIGIN_AIRPORT_ID</th>\n",
       "      <th>ORIGIN_AIRPORT_SEQ_ID</th>\n",
       "      <th>ORIGIN_CITY_MARKET_ID</th>\n",
       "      <th>ORIGIN</th>\n",
       "      <th>ORIGIN_CITY_NAME</th>\n",
       "      <th>DEST_AIRPORT_ID</th>\n",
       "      <th>...</th>\n",
       "      <th>ARR_TIME</th>\n",
       "      <th>ARR_DELAY</th>\n",
       "      <th>CANCELLED</th>\n",
       "      <th>CANCELLATION_CODE</th>\n",
       "      <th>CARRIER_DELAY</th>\n",
       "      <th>WEATHER_DELAY</th>\n",
       "      <th>NAS_DELAY</th>\n",
       "      <th>SECURITY_DELAY</th>\n",
       "      <th>LATE_AIRCRAFT_DELAY</th>\n",
       "      <th>Unnamed: 32</th>\n",
       "    </tr>\n",
       "    <tr>\n",
       "      <th>FL_DATE</th>\n",
       "      <th></th>\n",
       "      <th></th>\n",
       "      <th></th>\n",
       "      <th></th>\n",
       "      <th></th>\n",
       "      <th></th>\n",
       "      <th></th>\n",
       "      <th></th>\n",
       "      <th></th>\n",
       "      <th></th>\n",
       "      <th></th>\n",
       "      <th></th>\n",
       "      <th></th>\n",
       "      <th></th>\n",
       "      <th></th>\n",
       "      <th></th>\n",
       "      <th></th>\n",
       "      <th></th>\n",
       "      <th></th>\n",
       "      <th></th>\n",
       "      <th></th>\n",
       "    </tr>\n",
       "  </thead>\n",
       "  <tbody>\n",
       "    <tr>\n",
       "      <th>2017-01-01</th>\n",
       "      <td>AA</td>\n",
       "      <td>19805</td>\n",
       "      <td>N787AA</td>\n",
       "      <td>1</td>\n",
       "      <td>12478</td>\n",
       "      <td>1247803</td>\n",
       "      <td>31703</td>\n",
       "      <td>JFK</td>\n",
       "      <td>New York, NY</td>\n",
       "      <td>12892</td>\n",
       "      <td>...</td>\n",
       "      <td>1209.0</td>\n",
       "      <td>27.0</td>\n",
       "      <td>0.0</td>\n",
       "      <td>NaN</td>\n",
       "      <td>27.0</td>\n",
       "      <td>0.0</td>\n",
       "      <td>0.0</td>\n",
       "      <td>0.0</td>\n",
       "      <td>0.0</td>\n",
       "      <td>NaN</td>\n",
       "    </tr>\n",
       "    <tr>\n",
       "      <th>2017-01-01</th>\n",
       "      <td>AA</td>\n",
       "      <td>19805</td>\n",
       "      <td>N783AA</td>\n",
       "      <td>2</td>\n",
       "      <td>12892</td>\n",
       "      <td>1289204</td>\n",
       "      <td>32575</td>\n",
       "      <td>LAX</td>\n",
       "      <td>Los Angeles, CA</td>\n",
       "      <td>12478</td>\n",
       "      <td>...</td>\n",
       "      <td>1809.0</td>\n",
       "      <td>42.0</td>\n",
       "      <td>0.0</td>\n",
       "      <td>NaN</td>\n",
       "      <td>34.0</td>\n",
       "      <td>0.0</td>\n",
       "      <td>8.0</td>\n",
       "      <td>0.0</td>\n",
       "      <td>0.0</td>\n",
       "      <td>NaN</td>\n",
       "    </tr>\n",
       "    <tr>\n",
       "      <th>2017-01-01</th>\n",
       "      <td>AA</td>\n",
       "      <td>19805</td>\n",
       "      <td>N791AA</td>\n",
       "      <td>4</td>\n",
       "      <td>12892</td>\n",
       "      <td>1289204</td>\n",
       "      <td>32575</td>\n",
       "      <td>LAX</td>\n",
       "      <td>Los Angeles, CA</td>\n",
       "      <td>12478</td>\n",
       "      <td>...</td>\n",
       "      <td>2040.0</td>\n",
       "      <td>42.0</td>\n",
       "      <td>0.0</td>\n",
       "      <td>NaN</td>\n",
       "      <td>7.0</td>\n",
       "      <td>0.0</td>\n",
       "      <td>0.0</td>\n",
       "      <td>0.0</td>\n",
       "      <td>35.0</td>\n",
       "      <td>NaN</td>\n",
       "    </tr>\n",
       "    <tr>\n",
       "      <th>2017-01-01</th>\n",
       "      <td>AA</td>\n",
       "      <td>19805</td>\n",
       "      <td>N391AA</td>\n",
       "      <td>5</td>\n",
       "      <td>11298</td>\n",
       "      <td>1129804</td>\n",
       "      <td>30194</td>\n",
       "      <td>DFW</td>\n",
       "      <td>Dallas/Fort Worth, TX</td>\n",
       "      <td>12173</td>\n",
       "      <td>...</td>\n",
       "      <td>1749.0</td>\n",
       "      <td>97.0</td>\n",
       "      <td>0.0</td>\n",
       "      <td>NaN</td>\n",
       "      <td>77.0</td>\n",
       "      <td>0.0</td>\n",
       "      <td>20.0</td>\n",
       "      <td>0.0</td>\n",
       "      <td>0.0</td>\n",
       "      <td>NaN</td>\n",
       "    </tr>\n",
       "    <tr>\n",
       "      <th>2017-01-01</th>\n",
       "      <td>AA</td>\n",
       "      <td>19805</td>\n",
       "      <td>N346AA</td>\n",
       "      <td>6</td>\n",
       "      <td>13830</td>\n",
       "      <td>1383002</td>\n",
       "      <td>33830</td>\n",
       "      <td>OGG</td>\n",
       "      <td>Kahului, HI</td>\n",
       "      <td>11298</td>\n",
       "      <td>...</td>\n",
       "      <td>642.0</td>\n",
       "      <td>42.0</td>\n",
       "      <td>0.0</td>\n",
       "      <td>NaN</td>\n",
       "      <td>0.0</td>\n",
       "      <td>0.0</td>\n",
       "      <td>42.0</td>\n",
       "      <td>0.0</td>\n",
       "      <td>0.0</td>\n",
       "      <td>NaN</td>\n",
       "    </tr>\n",
       "  </tbody>\n",
       "</table>\n",
       "<p>5 rows × 32 columns</p>\n",
       "</div>"
      ],
      "text/plain": [
       "           UNIQUE_CARRIER  AIRLINE_ID TAIL_NUM  FL_NUM  ORIGIN_AIRPORT_ID  \\\n",
       "FL_DATE                                                                     \n",
       "2017-01-01             AA       19805   N787AA       1              12478   \n",
       "2017-01-01             AA       19805   N783AA       2              12892   \n",
       "2017-01-01             AA       19805   N791AA       4              12892   \n",
       "2017-01-01             AA       19805   N391AA       5              11298   \n",
       "2017-01-01             AA       19805   N346AA       6              13830   \n",
       "\n",
       "            ORIGIN_AIRPORT_SEQ_ID  ORIGIN_CITY_MARKET_ID ORIGIN  \\\n",
       "FL_DATE                                                           \n",
       "2017-01-01                1247803                  31703    JFK   \n",
       "2017-01-01                1289204                  32575    LAX   \n",
       "2017-01-01                1289204                  32575    LAX   \n",
       "2017-01-01                1129804                  30194    DFW   \n",
       "2017-01-01                1383002                  33830    OGG   \n",
       "\n",
       "                 ORIGIN_CITY_NAME  DEST_AIRPORT_ID     ...       ARR_TIME  \\\n",
       "FL_DATE                                                ...                  \n",
       "2017-01-01           New York, NY            12892     ...         1209.0   \n",
       "2017-01-01        Los Angeles, CA            12478     ...         1809.0   \n",
       "2017-01-01        Los Angeles, CA            12478     ...         2040.0   \n",
       "2017-01-01  Dallas/Fort Worth, TX            12173     ...         1749.0   \n",
       "2017-01-01            Kahului, HI            11298     ...          642.0   \n",
       "\n",
       "            ARR_DELAY CANCELLED CANCELLATION_CODE  CARRIER_DELAY  \\\n",
       "FL_DATE                                                            \n",
       "2017-01-01       27.0       0.0               NaN           27.0   \n",
       "2017-01-01       42.0       0.0               NaN           34.0   \n",
       "2017-01-01       42.0       0.0               NaN            7.0   \n",
       "2017-01-01       97.0       0.0               NaN           77.0   \n",
       "2017-01-01       42.0       0.0               NaN            0.0   \n",
       "\n",
       "            WEATHER_DELAY  NAS_DELAY  SECURITY_DELAY  LATE_AIRCRAFT_DELAY  \\\n",
       "FL_DATE                                                                     \n",
       "2017-01-01            0.0        0.0             0.0                  0.0   \n",
       "2017-01-01            0.0        8.0             0.0                  0.0   \n",
       "2017-01-01            0.0        0.0             0.0                 35.0   \n",
       "2017-01-01            0.0       20.0             0.0                  0.0   \n",
       "2017-01-01            0.0       42.0             0.0                  0.0   \n",
       "\n",
       "            Unnamed: 32  \n",
       "FL_DATE                  \n",
       "2017-01-01          NaN  \n",
       "2017-01-01          NaN  \n",
       "2017-01-01          NaN  \n",
       "2017-01-01          NaN  \n",
       "2017-01-01          NaN  \n",
       "\n",
       "[5 rows x 32 columns]"
      ]
     },
     "execution_count": 125,
     "metadata": {},
     "output_type": "execute_result"
    }
   ],
   "source": [
    "_df.head()"
   ]
  },
  {
   "cell_type": "markdown",
   "metadata": {},
   "source": [
    "# Application"
   ]
  },
  {
   "cell_type": "code",
   "execution_count": 165,
   "metadata": {},
   "outputs": [
    {
     "name": "stdout",
     "output_type": "stream",
     "text": [
      "Help on class TimeGrouper in module pandas.core.api:\n",
      "\n",
      "class TimeGrouper(builtins.object)\n",
      " |  # Deprecation: xref gh-16747\n",
      " |  \n",
      " |  Static methods defined here:\n",
      " |  \n",
      " |  __new__(cls, *args, **kwargs)\n",
      " |      Create and return a new object.  See help(type) for accurate signature.\n",
      " |  \n",
      " |  ----------------------------------------------------------------------\n",
      " |  Data descriptors defined here:\n",
      " |  \n",
      " |  __dict__\n",
      " |      dictionary for instance variables (if defined)\n",
      " |  \n",
      " |  __weakref__\n",
      " |      list of weak references to the object (if defined)\n",
      "\n"
     ]
    }
   ],
   "source": [
    "help(pd.TimeGrouper)"
   ]
  },
  {
   "cell_type": "code",
   "execution_count": 178,
   "metadata": {},
   "outputs": [
    {
     "name": "stderr",
     "output_type": "stream",
     "text": [
      "/Users/yuki/.pyenv/versions/miniconda3-4.1.11/envs/ml_env/lib/python3.6/site-packages/ipykernel/__main__.py:5: FutureWarning: pd.TimeGrouper is deprecated and will be removed; Please use pd.Grouper(freq=...)\n"
     ]
    },
    {
     "data": {
      "text/plain": [
       "<Figure size 864x432 with 0 Axes>"
      ]
     },
     "metadata": {},
     "output_type": "display_data"
    },
    {
     "data": {
      "image/png": "[encoded data removed]",
      "text/plain": [
       "<Figure size 432x288 with 1 Axes>"
      ]
     },
     "metadata": {},
     "output_type": "display_data"
    }
   ],
   "source": [
    "(df.dropna(subset=['dep_time', 'unique_carrier'])\n",
    "     .loc[df['unique_carrier'].isin(df['unique_carrier'].value_counts().index[:5])]\n",
    "     .set_index('dep_time')\n",
    "     .groupby(['unique_carrier', pd.TimeGrouper(\"H\")])['fl_num']\n",
    "     .count()\n",
    "     .unstack(0)\n",
    "     .fillna(0)\n",
    "     .rolling(24)\n",
    "     .sum()\n",
    "     .rename_axis(\"Flights per Day\", axis=1)\n",
    "     .plot()\n",
    ")\n",
    "sns.despine()"
   ]
  },
  {
   "cell_type": "code",
   "execution_count": 189,
   "metadata": {},
   "outputs": [
    {
     "name": "stderr",
     "output_type": "stream",
     "text": [
      "/Users/yuki/.pyenv/versions/miniconda3-4.1.11/envs/ml_env/lib/python3.6/site-packages/seaborn/categorical.py:462: FutureWarning: remove_na is deprecated and is a private function. Do not use.\n",
      "  box_data = remove_na(group_data)\n"
     ]
    },
    {
     "data": {
      "image/png": "[encoded data removed]",
      "text/plain": [
       "<Figure size 1080x360 with 1 Axes>"
      ]
     },
     "metadata": {},
     "output_type": "display_data"
    }
   ],
   "source": [
    "# %config InlineBackend.figure_format = 'png'\n",
    "flights = (df[['fl_date', 'tail_num', 'dep_time', 'dep_delay']]\n",
    "           .dropna()\n",
    "           .sort_values('dep_time')\n",
    "           .loc[lambda x: x.dep_delay < 500]\n",
    "           .assign(turn = lambda x:\n",
    "                x.groupby(['fl_date', 'tail_num'])\n",
    "                 .dep_time\n",
    "                 .transform('rank').astype(int)))\n",
    "\n",
    "fig, ax = plt.subplots(figsize=(15, 5))\n",
    "sns.boxplot(x='turn', y='dep_delay', data=flights, ax=ax)\n",
    "ax.set_ylim(-50, 50)\n",
    "sns.despine()"
   ]
  },
  {
   "cell_type": "code",
   "execution_count": 190,
   "metadata": {},
   "outputs": [
    {
     "name": "stderr",
     "output_type": "stream",
     "text": [
      "/Users/yuki/.pyenv/versions/miniconda3-4.1.11/envs/ml_env/lib/python3.6/site-packages/seaborn/categorical.py:462: FutureWarning: remove_na is deprecated and is a private function. Do not use.\n",
      "  box_data = remove_na(group_data)\n"
     ]
    },
    {
     "data": {
      "image/png": "[encoded data removed]",
      "text/plain": [
       "<Figure size 1080x360 with 1 Axes>"
      ]
     },
     "metadata": {},
     "output_type": "display_data"
    }
   ],
   "source": [
    "plt.figure(figsize=(15, 5))\n",
    "(df[['fl_date', 'tail_num', 'dep_time', 'dep_delay']]\n",
    "    .dropna()\n",
    "    .assign(hour=lambda x: x.dep_time.dt.hour)\n",
    "    .query('5 < dep_delay < 600')\n",
    "    .pipe((sns.boxplot, 'data'), 'hour', 'dep_delay'))\n",
    "sns.despine()"
   ]
  }
 ],
 "metadata": {
  "kernelspec": {
   "display_name": "Python [conda env:ml_env]",
   "language": "python",
   "name": "conda-env-ml_env-py"
  },
  "language_info": {
   "codemirror_mode": {
    "name": "ipython",
    "version": 3
   },
   "file_extension": ".py",
   "mimetype": "text/x-python",
   "name": "python",
   "nbconvert_exporter": "python",
   "pygments_lexer": "ipython3",
   "version": "3.6.2"
  }
 },
 "nbformat": 4,
 "nbformat_minor": 2
}
